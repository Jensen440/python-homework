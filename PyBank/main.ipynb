{
 "cells": [
  {
   "cell_type": "code",
   "execution_count": 8,
   "id": "8e69c858-c303-4c50-b3a5-d66a77fbc08e",
   "metadata": {},
   "outputs": [],
   "source": [
    "# import pandas and path libraries\n",
    "import pandas as pd\n",
    "import csv\n",
    "from pathlib import Path\n",
    "\n",
    "# Setting the file path\n",
    "file_path = Path('budget_data.csv')\n",
    "\n",
    "# Reading in the CSV as a DataFrame\n",
    "pybank_df = pd.read_csv('budget_data.csv')\n"
   ]
  },
  {
   "cell_type": "code",
   "execution_count": 9,
   "id": "54dcab00-cef6-47c0-9d83-d0349c3b23b5",
   "metadata": {},
   "outputs": [],
   "source": [
    "# Create empty lists\n",
    "\n",
    "total_months = []\n",
    "\n",
    "total_profit = []\n",
    "\n",
    "monthly_profit = []\n"
   ]
  },
  {
   "cell_type": "code",
   "execution_count": 10,
   "id": "93606cdf-8c72-49b0-a2c3-d87dea903261",
   "metadata": {},
   "outputs": [],
   "source": [
    "# Open budget_data.csv using with statement\n",
    "with open('budget_data.csv', 'r') as file:\n",
    "    \n",
    "    # Use reader function to start reading budget_data.csv\n",
    "    reader = csv.reader(file)\n",
    "    \n",
    "    # Skip the headers\n",
    "    next(reader, None)\n",
    "    \n",
    "    # Iterate through the rows in the stored file contents\n",
    "    for row in reader: \n",
    "\n",
    "        # Append the total months and total profit to their corresponding lists\n",
    "        total_months.append(row[0])\n",
    "        total_profit.append(int(row[1]))\n",
    "\n",
    "    # Iterate through the profits in order to get the monthly change in profits\n",
    "    for i in range(len(total_profit)-1):\n",
    "        \n",
    "        # Take the difference between two months and append to monthly profit change\n",
    "        monthly_profit.append(total_profit[i+1] - total_profit[i])\n"
   ]
  },
  {
   "cell_type": "code",
   "execution_count": 11,
   "id": "df320ffb-19ea-4a2c-af08-ef58f92c8eec",
   "metadata": {},
   "outputs": [],
   "source": [
    "# Obtain the max and min of the the montly profit change list\n",
    "max_increase = max(monthly_profit)\n",
    "max_decrease = min(monthly_profit)"
   ]
  },
  {
   "cell_type": "code",
   "execution_count": 12,
   "id": "3900dd8c-ed50-4720-838a-39f8790ae35e",
   "metadata": {},
   "outputs": [],
   "source": [
    "# Match the min and max to the month and move to next month\n",
    "max_increase_month = monthly_profit.index(max(monthly_profit)) + 1\n",
    "max_decrease_month = monthly_profit.index(min(monthly_profit)) + 1"
   ]
  },
  {
   "cell_type": "code",
   "execution_count": 13,
   "id": "d6dc0d9c-a540-4b5f-8d7b-bf891a46dbe0",
   "metadata": {},
   "outputs": [
    {
     "name": "stdout",
     "output_type": "stream",
     "text": [
      "Financial Analysis\n",
      "\n",
      "\n",
      "----------------------------\n",
      "\n",
      "\n",
      "Total Months: 86\n",
      "\n",
      "\n",
      "Total: $38382578\n",
      "\n",
      "\n",
      "Average Change: -2315.12\n",
      "\n",
      "\n",
      "Greatest Increase in Profits: Feb-2012 ($1926159)\n",
      "\n",
      "\n",
      "Greatest Decrease in Profits: Sep-2013 ($-2196167)\n"
     ]
    }
   ],
   "source": [
    "# Print Statements\n",
    "\n",
    "print(\"Financial Analysis\")\n",
    "print(\"\\n\")\n",
    "print(\"----------------------------\")\n",
    "print(\"\\n\")\n",
    "print(f\"Total Months: {len(total_months)}\")\n",
    "print(\"\\n\")\n",
    "print(f\"Total: ${sum(total_profit)}\")\n",
    "print(\"\\n\")\n",
    "\n",
    "# Print average change and round to 2 decimal places\n",
    "print(f\"Average Change: {round(sum(monthly_profit)/len(monthly_profit),2)}\")\n",
    "print(\"\\n\")\n",
    "print(f\"Greatest Increase in Profits: {total_months[max_increase_month]} (${(str(max_increase))})\")\n",
    "print(\"\\n\")\n",
    "print(f\"Greatest Decrease in Profits: {total_months[max_decrease_month]} (${(str(max_decrease))})\")\n",
    "\n",
    "# Output Financial_Analysis.txt file\n",
    "output_file = Path(\"Financial_Analysis.txt\")\n",
    "\n",
    "with open(output_file,\"w\") as file:\n",
    "    \n",
    "    file.write(\"Financial Analysis\")\n",
    "    file.write(\"\\n\")\n",
    "    file.write(\"----------------------------\")\n",
    "    file.write(\"\\n\")\n",
    "    file.write(f\"Total Months: {len(total_months)}\")\n",
    "    file.write(\"\\n\")\n",
    "    file.write(f\"Total: ${sum(total_profit)}\")\n",
    "    file.write(\"\\n\")\n",
    "    file.write(f\"Average Change: {round(sum(monthly_profit)/len(monthly_profit),2)}\")\n",
    "    file.write(\"\\n\")\n",
    "    file.write(f\"Greatest Increase in Profits: {total_months[max_increase_month]} (${(str(max_increase))})\")\n",
    "    file.write(\"\\n\")\n",
    "    file.write(f\"Greatest Decrease in Profits: {total_months[max_decrease_month]} (${(str(max_decrease))})\")"
   ]
  },
  {
   "cell_type": "code",
   "execution_count": null,
   "id": "9812ed5d-7109-479a-aebb-008da639ba67",
   "metadata": {},
   "outputs": [],
   "source": []
  },
  {
   "cell_type": "code",
   "execution_count": null,
   "id": "25b822b9-e2d7-4af9-aebc-40d65bdf0885",
   "metadata": {
    "jupyter": {
     "source_hidden": true
    },
    "tags": []
   },
   "outputs": [],
   "source": []
  }
 ],
 "metadata": {
  "kernelspec": {
   "display_name": "Python 3 (ipykernel)",
   "language": "python",
   "name": "python3"
  },
  "language_info": {
   "codemirror_mode": {
    "name": "ipython",
    "version": 3
   },
   "file_extension": ".py",
   "mimetype": "text/x-python",
   "name": "python",
   "nbconvert_exporter": "python",
   "pygments_lexer": "ipython3",
   "version": "3.7.13"
  }
 },
 "nbformat": 4,
 "nbformat_minor": 5
}
